{
 "cells": [
  {
   "cell_type": "code",
   "execution_count": 1,
   "metadata": {},
   "outputs": [
    {
     "name": "stdout",
     "output_type": "stream",
     "text": [
      "Defaulting to user installation because normal site-packages is not writeable\n",
      "Requirement already satisfied: tabulate in c:\\users\\lucasrguerra\\appdata\\roaming\\python\\python312\\site-packages (0.9.0)\n"
     ]
    }
   ],
   "source": [
    "!pip install tabulate"
   ]
  },
  {
   "cell_type": "code",
   "execution_count": 1,
   "metadata": {},
   "outputs": [],
   "source": [
    "raise_of_two = 2 ** 0.5\n",
    "\n",
    "\n",
    "\n",
    "def calculate_data(input_voltage, primary_resistor_shunt, secundary_resistor_shunt):\n",
    "    primary_current = input_voltage / primary_resistor_shunt\n",
    "    secundary_rms_voltage = secundary_resistor_shunt * primary_current\n",
    "    secondary_peak_voltage = secundary_rms_voltage * raise_of_two\n",
    "    secundary_peak_to_peak_voltage = secondary_peak_voltage * 2\n",
    "    transformation_ratio = input_voltage / secundary_rms_voltage\n",
    "\n",
    "    return [f\"{primary_current:.5f}\", f\"{secundary_rms_voltage:.5f}\", f\"{secondary_peak_voltage:.5f}\", f\"{secundary_peak_to_peak_voltage:.5f}\", f\"{transformation_ratio:.3f}\"]"
   ]
  },
  {
   "cell_type": "code",
   "execution_count": 2,
   "metadata": {},
   "outputs": [
    {
     "name": "stdout",
     "output_type": "stream",
     "text": [
      "  Primary Current (A)    Secundary RMS Voltage (V)    Secondary Peak Voltage (V)    Secundary Peak to Peak Voltage (V)    Transformation Ratio\n",
      "---------------------  ---------------------------  ----------------------------  ------------------------------------  ----------------------\n",
      "              0.00158                      0.98167                       1.38829                               2.77657                 483.871\n",
      "              0.00163                      1.01037                       1.42888                               2.85776                 435.484\n",
      "              0.00153                      0.94722                       1.33957                               2.67915                 290.323\n",
      "              0.00146                      0.99167                       1.40243                               2.80486                 176.471\n"
     ]
    }
   ],
   "source": [
    "from tabulate import tabulate\n",
    "print(tabulate([\n",
    "    calculate_data(475, 300000, 620),\n",
    "    calculate_data(440, 270000, 620),\n",
    "    calculate_data(275, 180000, 620),\n",
    "    calculate_data(175, 120000, 680)\n",
    "], headers=[\"Primary Current (A)\", \"Secundary RMS Voltage (V)\", \"Secondary Peak Voltage (V)\", \"Secundary Peak to Peak Voltage (V)\", \"Transformation Ratio\"]))"
   ]
  },
  {
   "cell_type": "code",
   "execution_count": null,
   "metadata": {},
   "outputs": [],
   "source": []
  }
 ],
 "metadata": {
  "kernelspec": {
   "display_name": "Python 3",
   "language": "python",
   "name": "python3"
  },
  "language_info": {
   "codemirror_mode": {
    "name": "ipython",
    "version": 3
   },
   "file_extension": ".py",
   "mimetype": "text/x-python",
   "name": "python",
   "nbconvert_exporter": "python",
   "pygments_lexer": "ipython3",
   "version": "3.12.2"
  }
 },
 "nbformat": 4,
 "nbformat_minor": 2
}
