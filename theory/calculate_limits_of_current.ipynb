{
 "cells": [
  {
   "cell_type": "code",
   "execution_count": 10,
   "metadata": {},
   "outputs": [
    {
     "name": "stdout",
     "output_type": "stream",
     "text": [
      "Defaulting to user installation because normal site-packages is not writeable\n",
      "Collecting tabulate\n",
      "  Using cached tabulate-0.9.0-py3-none-any.whl.metadata (34 kB)\n",
      "Using cached tabulate-0.9.0-py3-none-any.whl (35 kB)\n",
      "Installing collected packages: tabulate\n",
      "Successfully installed tabulate-0.9.0\n"
     ]
    }
   ],
   "source": [
    "!pip install tabulate"
   ]
  },
  {
   "cell_type": "code",
   "execution_count": 17,
   "metadata": {},
   "outputs": [],
   "source": [
    "current_ratio = 3000        # Current Transformer 3000:1\n",
    "raise_of_two = 2 ** 0.5\n",
    "\n",
    "\n",
    "\n",
    "def calculate_data(current_rms, resistor_shunt):\n",
    "    secundary_current = current_rms / current_ratio\n",
    "    secundary_rms_voltage = resistor_shunt * secundary_current\n",
    "    secundary_peak_voltage = secundary_rms_voltage * raise_of_two\n",
    "    secundary_peak_to_peak_voltage = secundary_peak_voltage * 2\n",
    "    transformation_ratio = current_rms / secundary_rms_voltage\n",
    "\n",
    "    return [f\"{secundary_current:.5f}\", f\"{secundary_rms_voltage:.5f}\", f\"{secundary_peak_voltage:.5f}\", f\"{secundary_peak_to_peak_voltage:.5f}\", f\"{transformation_ratio:.3f}\"]"
   ]
  },
  {
   "cell_type": "code",
   "execution_count": 18,
   "metadata": {},
   "outputs": [
    {
     "name": "stdout",
     "output_type": "stream",
     "text": [
      "  Secundary Current (A)    Secundary RMS Voltage (V)    Secundary Peak Voltage (V)    Secundary Peak to Peak Voltage (V)    Transformation Ratio\n",
      "-----------------------  ---------------------------  ----------------------------  ------------------------------------  ----------------------\n",
      "                0.33333                      1                             1.41421                               2.82843                1000\n",
      "                0.25                         0.975                         1.37886                               2.75772                 769.231\n",
      "                0.16667                      0.93333                       1.31993                               2.63987                 535.714\n",
      "                0.1                          1                             1.41421                               2.82843                 300\n",
      "                0.06667                      1                             1.41421                               2.82843                 200\n",
      "                0.04                         0.96                          1.35765                               2.71529                 125\n",
      "                0.02667                      0.96                          1.35765                               2.71529                  83.333\n"
     ]
    }
   ],
   "source": [
    "from tabulate import tabulate\n",
    "print(tabulate([\n",
    "    calculate_data(1000, 3),\n",
    "    calculate_data(750, 3.9),\n",
    "    calculate_data(500, 5.6),\n",
    "    calculate_data(300, 10),calculate_data(200, 15),\n",
    "    calculate_data(120, 24),\n",
    "    calculate_data(80, 36)\n",
    "], headers=[\"Secundary Current (A)\", \"Secundary RMS Voltage (V)\", \"Secundary Peak Voltage (V)\", \"Secundary Peak to Peak Voltage (V)\", \"Transformation Ratio\"]))"
   ]
  },
  {
   "cell_type": "code",
   "execution_count": null,
   "metadata": {},
   "outputs": [],
   "source": []
  }
 ],
 "metadata": {
  "kernelspec": {
   "display_name": "Python 3",
   "language": "python",
   "name": "python3"
  },
  "language_info": {
   "codemirror_mode": {
    "name": "ipython",
    "version": 3
   },
   "file_extension": ".py",
   "mimetype": "text/x-python",
   "name": "python",
   "nbconvert_exporter": "python",
   "pygments_lexer": "ipython3",
   "version": "3.12.2"
  }
 },
 "nbformat": 4,
 "nbformat_minor": 2
}
